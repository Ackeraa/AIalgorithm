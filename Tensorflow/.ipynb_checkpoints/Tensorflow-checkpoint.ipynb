{
 "cells": [
  {
   "cell_type": "code",
   "execution_count": 8,
   "metadata": {},
   "outputs": [
    {
     "name": "stdout",
     "output_type": "stream",
     "text": [
      "Tensorflow version:  2.3.0\n",
      "Tensorflow is built with CUDA:  False\n",
      "All devies:  [PhysicalDevice(name='/physical_device:CPU:0', device_type='CPU'), PhysicalDevice(name='/physical_device:XLA_CPU:0', device_type='XLA_CPU')]\n",
      "GPU device:  []\n",
      "tf.Tensor(2.07612, shape=(), dtype=float32)\n"
     ]
    }
   ],
   "source": [
    "import tensorflow as tf\n",
    "\n",
    "print(\"Tensorflow version: \", tf.__version__)\n",
    "\n",
    "print(\"Tensorflow is built with CUDA: \", tf.test.is_built_with_cuda())\n",
    "\n",
    "print(\"All devies: \", tf.config.list_physical_devices(device_type=None))\n",
    "\n",
    "print(\"GPU device: \", tf.config.list_physical_devices(device_type='GPU'))\n",
    "\n",
    "print(tf.math.reduce_sum(tf.random.normal([1, 10])))\n",
    "\n"
   ]
  },
  {
   "cell_type": "code",
   "execution_count": 22,
   "metadata": {},
   "outputs": [
    {
     "name": "stdout",
     "output_type": "stream",
     "text": [
      "output:  [5.0, 10.0, 15.0, 0.5]\n"
     ]
    }
   ],
   "source": [
    "from __future__ import print_function\n",
    "import tensorflow.compat.v1 as tf\n",
    "import os\n",
    "\n",
    "tf.disable_v2_behavior()\n",
    "\n",
    "a = tf.constant(5.0, name = \"a\")\n",
    "b = tf.constant(10.0, name = \"b\")\n",
    "\n",
    "x = tf.add(a, b, name = \"add\")\n",
    "y = tf.div(a, b, name = \"divide\")\n",
    "\n",
    "with tf.Session() as sess:\n",
    "    writer = tf.summary.FileWriter(\"./logs\", sess.graph)\n",
    "    print(\"output: \", sess.run([a, b, x, y]))  \n",
    "writer.close()    \n",
    "sess.close()"
   ]
  },
  {
   "cell_type": "code",
   "execution_count": 26,
   "metadata": {},
   "outputs": [],
   "source": [
    "from tensorflow.python.framework import ops\n",
    "import tensorflow.compat.v1 as tf\n",
    "\n",
    "tf.disable_v2_behavior()\n",
    "\n",
    "weights = tf.Variable(tf.random_normal([2, 3], stddev = 0.1), \n",
    "                     name = \"weights\")\n",
    "\n",
    "biases = tf.Variable(tf.zeros([3]), name = \"biases\")\n",
    "custom_variable = tf.Variable(tf.zeros([3]), name = \"custom\")\n",
    "\n",
    "#初始化\n",
    "variable_list_custom = [weights, custom_variable]\n",
    "init_custom_op = tf.variables_initializer(var_list = variable_list_custom)\n",
    "\n",
    "#全局变量初始化\n",
    "#Method-1\n",
    "init_all_op = tf.global_variables_initializer()\n",
    "\n",
    "#Method-2\n",
    "all_variables_list = ops.get_collection(ops.GraphKeys.GLOBAL_VARIABLES)\n",
    "init_all_op = tf.variables_initializer(var_list = all_variables_list)\n"
   ]
  },
  {
   "cell_type": "code",
   "execution_count": 79,
   "metadata": {},
   "outputs": [
    {
     "name": "stdout",
     "output_type": "stream",
     "text": [
      "2.3.0\n",
      "The tensorboard extension is already loaded. To reload it, use:\n",
      "  %reload_ext tensorboard\n",
      "Tensorflow.ipynb                  \u001b[1m\u001b[36mpng\u001b[m\u001b[m\n",
      "cs.py                             \u001b[1m\u001b[36mtraining\u001b[m\u001b[m\n",
      "linearRegressionOneVariable.ipynb\n"
     ]
    },
    {
     "data": {
      "image/png": "[encoded data removed]",
      "text/plain": [
       "<Figure size 432x288 with 1 Axes>"
      ]
     },
     "metadata": {},
     "output_type": "display_data"
    },
    {
     "name": "stdout",
     "output_type": "stream",
     "text": [
      "('Failed to import pydot. You must `pip install pydot` and install graphviz (https://graphviz.gitlab.io/download/), ', 'for `pydotprint` to work.')\n",
      "Model: \"sequential_27\"\n",
      "_________________________________________________________________\n",
      "Layer (type)                 Output Shape              Param #   \n",
      "=================================================================\n",
      "layer (Dense)                (None, 1)                 2         \n",
      "=================================================================\n",
      "Total params: 2\n",
      "Trainable params: 2\n",
      "Non-trainable params: 0\n",
      "_________________________________________________________________\n"
     ]
    }
   ],
   "source": [
    "#线性回归\n",
    "\n",
    "from __future__ import absolute_import, division, print_function, unicode_literals\n",
    "import pathlib\n",
    "import matplotlib.pyplot as plt\n",
    "import numpy as np\n",
    "import pandas as pd\n",
    "import seaborn as sns\n",
    "from datetime import datetime\n",
    "import os\n",
    "\n",
    "try:\n",
    "    %tensorflow_version 2.x\n",
    "except Exception:\n",
    "    pass\n",
    "import tensorflow as tf\n",
    "from tensorflow import keras\n",
    "from tensorflow.keras import layers\n",
    "print(tf.__version__)\n",
    "\n",
    "%load_ext tensorboard\n",
    "\n",
    "!rm -rf ./logs/\n",
    "!ls\n",
    "\n",
    "dataset_path = keras.utils.get_file(\"housing.data\", \"https://archive.ics.uci.edu/ml/machine-learning-databases/housing/housing.data\")\n",
    "\n",
    "column_names = ['CRIM','ZN','INDUS','CHAS','NOX',\n",
    "                'RM', 'AGE', 'DIS','RAD','TAX','PTRATION', 'B', 'LSTAT', 'MEDV']\n",
    "raw_dataset = pd.read_csv(dataset_path, names = column_names, \n",
    "                         na_values = \"?\", comment = '\\t',\n",
    "                         sep = \" \", skipinitialspace = True)\n",
    "\n",
    "# Create a dataset instant\n",
    "dataset = raw_dataset.copy()\n",
    "\n",
    "# show last 10 data\n",
    "dataset.tail(n = 10)\n",
    "\n",
    "p = 0.8\n",
    "trainDataset = dataset.sample(frac = p, random_state = 0)\n",
    "testDataset = dataset.drop(trainDataset.index)\n",
    "\n",
    "fig, ax = plt.subplots()\n",
    "\n",
    "x = trainDataset['RM']\n",
    "y = trainDataset['MEDV']\n",
    "ax.scatter(x, y, edgecolors = (0, 0, 0))\n",
    "ax.set_xlabel('RM')\n",
    "ax.set_ylabel('MEDV')\n",
    "plt.show()\n",
    "\n",
    "trainInput = trainDataset['RM']\n",
    "trainTarget = trainDataset['MEDV']\n",
    "testInput = testDataset['RM']\n",
    "testTarget = testDataset['MEDV']\n",
    "\n",
    "def linear_model():\n",
    "    model = keras.Sequential([\n",
    "        layers.Dense(1, use_bias = True, input_shape = (1, ), name = 'layer')\n",
    "    ])\n",
    "    \n",
    "    # Using adam optimizer\n",
    "    optimizer = tf.keras.optimizers.Adam(\n",
    "    learning_rate = 0.01, beta_1 = 0.9, beta_2 = 0.99, epsilon = 1e-05, amsgrad = False,\n",
    "    name = 'Adam')\n",
    "    \n",
    "    model.compile(loss = 'mse', optimizer = optimizer, metrics = ['mae', 'mse'])\n",
    "    \n",
    "    return model\n",
    "\n",
    "# Creat model instant\n",
    "model = linear_model()\n",
    "\n",
    "# Model plot\n",
    "tf.keras.utils.plot_model(\n",
    "model, to_file = 'mode1.png', show_shapes = True, show_layer_names = True,\n",
    "rankdir = 'TB', expand_nested = False, dpi = 100)\n",
    "\n",
    "# Print the model summary\n",
    "model.summary()\n",
    "\n",
    "\n"
   ]
  },
  {
   "cell_type": "code",
   "execution_count": null,
   "metadata": {},
   "outputs": [],
   "source": [
    "# Trainning model\n",
    "\n",
    "#params\n",
    "n_epochs = 4000\n",
    "batch_size = 256\n",
    "n_idle_epochs = 100\n",
    "n_epochs_log = 200\n",
    "n_samples_save = n_epochs_log * trainInput.shape[0]\n",
    "print('Checkpoint is saved for each {} samples'.format(n_samples_save))\n",
    "\n",
    "# A mechanism that stops training if the validation loss is not improving for more than n_idle_epochs.\n",
    "earlyStopping = tf.keras.callbacks.EarlyStopping(monitor = 'val_loss', patience = n_idle_epochs, min_delta = 0.001)\n",
    "\n",
    "# Print the log after a certain number of epochs\n",
    "predictions_list = []\n",
    "\n",
    "\n",
    "class NEPOCHLogger(tf.keras.callbacks.Callback):\n",
    "    def __init__(self, per_epoch = 100):\n",
    "        self.seen = 0\n",
    "        self.per_epoch = per_epoch\n",
    "        \n",
    "        \n",
    "    def on_epoch_end(self, epoch, logs=None):\n",
    "         if epoch % self.per_epoch == 0:\n",
    "                print('Epoch {}, loss {:.2f}, val_loss {:.2f}'.format(epoch, logs['loss'], logs['val_loss']))\n",
    "              \n",
    "# Call the object\n",
    "log_display = NEPOCHLogger(per_epoch = n_epochs_log)\n",
    "\n",
    "# Include the epoch in the file name\n",
    "checkpoint_path = \"training/cp-{epoch:05d}.ckpt\"\n",
    "checkpoint_dir = os.path.dirname(checkpoint_path)\n",
    "\n",
    "# Create a callback that saves the model's weights every 5 epochs\n",
    "checkpointCallback = tf.keras.callbacks.ModelCheckpoint(\n",
    "    filepath = checkpoint_path,\n",
    "    verbose = 1,\n",
    "    save_weights_only = True,\n",
    "    save_freq = n_samples_save)\n",
    "\n",
    "# Save the weights using the `checkpoint_path` format\n",
    "model.save_weights(checkpoint_path.format(epoch = 0))\n",
    "\n",
    "# Define the Keras TensorBoard callback\n",
    "logdir = \"logs/fit/\" + datetime.now().strftime(\"%Y%m%d-%H%M%S\")\n",
    "tensorboard_callback = keras.callbacks.TensorBoard(log_dir = logdir)\n",
    "      \n",
    "history = model.fit(\n",
    "    trainInput, trainTarget, batch_size = batch_size,\n",
    "    epochs = n_epochs, validation_split = 0.1, verbose = 0, \n",
    "    callbacks = [earlyStopping, log_display, tensorboard_callback, checkpointCallback])\n"
   ]
  },
  {
   "cell_type": "code",
   "execution_count": 66,
   "metadata": {},
   "outputs": [
    {
     "name": "stdout",
     "output_type": "stream",
     "text": [
      "keys: dict_keys(['loss', 'mean_absolute_error', 'mean_squared_error', 'val_loss', 'val_mean_absolute_error', 'val_mean_squared_error'])\n"
     ]
    },
    {
     "data": {
      "text/plain": [
       "<matplotlib.axes._subplots.AxesSubplot at 0x7f91168dde10>"
      ]
     },
     "execution_count": 66,
     "metadata": {},
     "output_type": "execute_result"
    },
    {
     "data": {
      "image/png": "[encoded data removed]",
      "text/plain": [
       "<Figure size 432x288 with 1 Axes>"
      ]
     },
     "metadata": {},
     "output_type": "display_data"
    }
   ],
   "source": [
    "\n",
    "# The fit model returns the history object for each Keras model\n",
    "print('keys:', history.history.keys())\n",
    "\n",
    "mae = np.asarray(history.history['mean_absolute_error'])\n",
    "val_mae = np.asarray(history.history['val_mean_absolute_error'])\n",
    "\n",
    "# Creating the data frame\n",
    "num_values = (len(mae))\n",
    "values = np.zeros((num_values, 2), dtype = float)\n",
    "values[:, 0] = mae\n",
    "values[:, 1] = val_mae\n",
    "\n",
    "# Using pandas to frame the data\n",
    "steps = pd.RangeIndex(start = 0, stop = num_values)\n",
    "data = pd.DataFrame(values, steps, columns = [\"training-mae\", \"val-mae\"])\n",
    "\n",
    "sns.set(style = \"whitegrid\")\n",
    "sns.lineplot(data = data, palette = \"tab10\", linewidth = 2.5)\n"
   ]
  },
  {
   "cell_type": "code",
   "execution_count": null,
   "metadata": {},
   "outputs": [],
   "source": []
  },
  {
   "cell_type": "code",
   "execution_count": 67,
   "metadata": {
    "scrolled": true
   },
   "outputs": [
    {
     "data": {
      "image/png": "[encoded data removed]",
      "text/plain": [
       "<Figure size 432x288 with 1 Axes>"
      ]
     },
     "metadata": {},
     "output_type": "display_data"
    }
   ],
   "source": [
    "predictions = model.predict(testInput).flatten()\n",
    "a = plt.axes(aspect = 'equal')\n",
    "plt.scatter(predictions, testTarget, edgecolors = (0, 0, 0))\n",
    "plt.xlabel(\"True Values\")\n",
    "plt.ylabel(\"Predictions\")\n",
    "lims = [0, 50]\n",
    "plt.xlim(lims)\n",
    "plt.ylim(lims)\n",
    "_ = plt.plot(lims, lims)"
   ]
  },
  {
   "cell_type": "code",
   "execution_count": 78,
   "metadata": {},
   "outputs": [
    {
     "name": "stdout",
     "output_type": "stream",
     "text": [
      "checkpoints:  ['cp-00000.ckpt']\n",
      "3\n",
      "<module 'posixpath' from '/Library/Frameworks/Python.framework/Versions/3.7/lib/python3.7/posixpath.py'>\n"
     ]
    },
    {
     "data": {
      "image/png": "[encoded data removed]",
      "text/plain": [
       "<Figure size 432x288 with 1 Axes>"
      ]
     },
     "metadata": {},
     "output_type": "display_data"
    }
   ],
   "source": [
    "# Get the saved checkpoint files\n",
    "checkpoints = []\n",
    "for f_name in os.listdir(checkpoint_dir):\n",
    "    if f_name.startswith('cp-'):\n",
    "        file_with_no_ext = os.path.splitext(f_name)[0]\n",
    "        checkpoints.append(file_with_no_ext)\n",
    "    \n",
    "# Return unique list elements\n",
    "checkpoints = list(set(checkpoints))\n",
    "print('checkpoints: ', checkpoints)\n",
    "print()\n",
    "# Load all model checkpoints and evaluate for each\n",
    "\n",
    "model_improvement_progress = True\n",
    "if model_improvement_progress:\n",
    "    for checkpoint in checkpoints:\n",
    "        count += 1\n",
    "    \n",
    "        \n",
    "        # Call model instant\n",
    "        model = linear_model()\n",
    "        \n",
    "        # Restore the weights\n",
    "        path = os.path.join('training', checkpoint)\n",
    "        model.load_weights(path)\n",
    "        \n",
    "        # Access to layer weights\n",
    "        layer = model.get_layer('layer')\n",
    "        w1, w0 = layer.get_weights()\n",
    "        w1 = float(w1[0])\n",
    "        w0 = float(w0[0])\n",
    "        \n",
    "        # Draw the scatter plot data\n",
    "        fig, ax = plt.subplots()\n",
    "        x = testInput\n",
    "        y = testTarget\n",
    "        ax.scatter(x, y, edgecolors = (0, 0, 0))\n",
    "        ax.set_xlabel('RM')\n",
    "        ax.set_ylabel('MEDV')\n",
    "        \n",
    "        # Plot the line\n",
    "        y_hat = w1 * x + w0\n",
    "        plt.plot(x, y_hat, '-r')\n",
    "        plt.savefig('png/' + str(checkpoint) + '.png')\n",
    "        print(os.path)"
   ]
  },
  {
   "cell_type": "code",
   "execution_count": null,
   "metadata": {},
   "outputs": [],
   "source": [
    "######################################################"
   ]
  },
  {
   "cell_type": "code",
   "execution_count": null,
   "metadata": {},
   "outputs": [],
   "source": [
    "# Logistic Regression\n",
    "import numpy as np\n",
    "import matplotlib.pyplot as plt\n",
    "import tensorflow as tf\n",
    "import tempfile\n",
    "import urllib\n",
    "import pandas as pd\n",
    "import os\n",
    "import tensorflow_datasets as tfds\n",
    "\n",
    "# Necessary flags\n",
    "max_num_checkpoint = 10\n",
    "num_classes = 2\n",
    "batch_size = 512\n",
    "num_epochs = 10\n",
    "\n",
    "# Learning rate flags\n",
    "initial_learning_rate = 0.001\n",
    "learning_rate_decay_factor = 0.95\n",
    "num_epochs_per_decay = 1\n",
    "\n",
    "# Status flags\n",
    "is_training = False\n",
    "fine_tuning = False\n",
    "online_test = True\n",
    "allow_soft_placement = True\n",
    "log_device_placement = False\n",
    "print(\"FUCK\")\n",
    "mnist = tfds.load(name=\"mnist\", split=tfds.Split.TRAIN)\n",
    "\n",
    "# Organize the data\n",
    "data = {}\n",
    "data['train/image'] = mnist.train.images\n",
    "data['train/label'] = mnist.train.labels\n",
    "data['test/image'] = mnist.test.images\n",
    "data['test/label'] = mnist.test.labels\n",
    "\n",
    "\n",
    "print(data)\n",
    "# def extract_samples_Fn(data):\n",
    "#     index_list = []\n",
    "#     for sample_index in range(data.shape[0]):\n",
    "#         label = data[sample_index]\n",
    "#         if label == 1 or label == 0:\n",
    "#             index_list.append(sample_index)\n",
    "#     return index_list\n",
    "\n",
    "# # Get only the samples with zeros and one label for training\n",
    "# index_list_train = extract_samples_Fn(data['train/label'])\n",
    "\n",
    "# # Get only the samples with zeros and one label for test\n",
    "# index_list_test = extract_samples_Fn(data['test/label'])\n",
    "\n",
    "# # Reform the train data structure\n",
    "# data['train/image'] = mnist.train.images[index_list_train]\n",
    "# data['train/label'] = mnist.train.labels[index_list_train]\n",
    "\n",
    "# # Reform the test data structure\n",
    "# data['test/image'] = mnist.test.images[index_list_test]\n",
    "# data['test/label'] = mnist.test.labels[index_list_test]\n",
    "\n",
    "# # Dimentionality of train\n",
    "# dimensionality_train = data['train/image'].shape\n",
    "\n",
    "# # Dimensions\n",
    "# num_train_samples = dimensionality_train[0]\n",
    "# num_features = dimensionality_train[1]\n",
    "\n"
   ]
  },
  {
   "cell_type": "code",
   "execution_count": null,
   "metadata": {},
   "outputs": [],
   "source": []
  }
 ],
 "metadata": {
  "kernelspec": {
   "display_name": "Python 3",
   "language": "python",
   "name": "python3"
  },
  "language_info": {
   "codemirror_mode": {
    "name": "ipython",
    "version": 3
   },
   "file_extension": ".py",
   "mimetype": "text/x-python",
   "name": "python",
   "nbconvert_exporter": "python",
   "pygments_lexer": "ipython3",
   "version": "3.7.0"
  }
 },
 "nbformat": 4,
 "nbformat_minor": 2
}

{
 "cells": [
  {
   "cell_type": "code",
   "execution_count": 1,
   "metadata": {
    "colab": {},
    "colab_type": "code",
    "id": "Yh0AtXXOXVuD"
   },
   "outputs": [],
   "source": [
    "from __future__ import absolute_import, division, print_function, unicode_literals\n",
    "import pathlib\n",
    "import matplotlib.pyplot as plt\n",
    "import numpy as np\n",
    "import pandas as pd\n",
    "import seaborn as sns\n",
    "from datetime import datetime"
   ]
  },
  {
   "cell_type": "code",
   "execution_count": 2,
   "metadata": {
    "colab": {
     "base_uri": "https://localhost:8080/",
     "height": 51
    },
    "colab_type": "code",
    "executionInfo": {
     "elapsed": 3026,
     "status": "ok",
     "timestamp": 1583100754823,
     "user": {
      "displayName": "Amirsina Torfi",
      "photoUrl": "",
      "userId": "05259461406376019573"
     },
     "user_tz": 300
    },
    "id": "zP5cGu1RWLxw",
    "outputId": "7b7adade-2256-4eac-ea9c-e76dcdad9d34"
   },
   "outputs": [
    {
     "name": "stdout",
     "output_type": "stream",
     "text": [
      "2.3.0\n"
     ]
    }
   ],
   "source": [
    "try:\n",
    "  # %tensorflow_version only exists in Colab.\n",
    "  %tensorflow_version 2.x\n",
    "except Exception:\n",
    "  pass\n",
    "import tensorflow as tf\n",
    "from tensorflow import keras\n",
    "from tensorflow.keras import layers\n",
    "print(tf.__version__)\n",
    "\n",
    "# Load the TensorBoard notebook extension.\n",
    "%load_ext tensorboard"
   ]
  },
  {
   "cell_type": "code",
   "execution_count": 3,
   "metadata": {
    "colab": {
     "base_uri": "https://localhost:8080/",
     "height": 34
    },
    "colab_type": "code",
    "executionInfo": {
     "elapsed": 6807,
     "status": "ok",
     "timestamp": 1583100758612,
     "user": {
      "displayName": "Amirsina Torfi",
      "photoUrl": "",
      "userId": "05259461406376019573"
     },
     "user_tz": 300
    },
    "id": "zocHOShS8XVt",
    "outputId": "d509b9c0-758a-443a-d917-adb7bbc6e466"
   },
   "outputs": [
    {
     "name": "stdout",
     "output_type": "stream",
     "text": [
      "Tensorflow.ipynb                  linearRegressionOneVariable.ipynb\r\n",
      "cs.py\r\n"
     ]
    }
   ],
   "source": [
    "# Clear logs from previous calls\n",
    "!rm -rf ./logs/ \n",
    "\n",
    "# Check\n",
    "!ls"
   ]
  },
  {
   "cell_type": "code",
   "execution_count": 4,
   "metadata": {
    "colab": {},
    "colab_type": "code",
    "id": "3bAedq0NWThz"
   },
   "outputs": [],
   "source": [
    "# Download the daset with keras.utils.get_file\n",
    "dataset_path = keras.utils.get_file(\"housing.data\", \"https://archive.ics.uci.edu/ml/machine-learning-databases/housing/housing.data\")"
   ]
  },
  {
   "cell_type": "markdown",
   "metadata": {
    "colab_type": "text",
    "id": "CTetrCMSca0w"
   },
   "source": [
    "## Boston house prices dataset\n",
    "\n",
    "#### Characteristics\n",
    "* Number of Instances: 506\n",
    "* The first 13 features are numeric/categorical predictive features. \n",
    "* The last one (attribute 14): Median Value is the target variable.\n",
    "\n",
    "#### Attributes\n",
    "\n",
    "1. CRIM per capita crime rate by town\n",
    "2. ZN proportion of residential land zoned for lots over 25,000 sq.ft.\n",
    "3. INDUS proportion of non-retail business acres per town\n",
    "4. CHAS Charles River dummy variable (= 1 if tract bounds river; 0 otherwise)\n",
    "5. NOX nitric oxides concentration (parts per 10 million)\n",
    "6. RM average number of rooms per dwelling\n",
    "7. AGE proportion of owner-occupied units built prior to 1940\n",
    "8. DIS weighted distances to five Boston employment centres\n",
    "9. RAD index of accessibility to radial highways\n",
    "10. TAX full-value property-tax rate per \\$10,000\n",
    "11. PTRATIO pupil-teacher ratio by town\n",
    "12. B 1000(Bk - 0.63)^2 where Bk is the proportion of blacks by town\n",
    "13. LSTAT \\% lower status of the population\n",
    "14. MEDV Median value of owner-occupied homes in \\$1000’s [target attribute]"
   ]
  },
  {
   "cell_type": "code",
   "execution_count": 5,
   "metadata": {
    "colab": {
     "base_uri": "https://localhost:8080/",
     "height": 359
    },
    "colab_type": "code",
    "executionInfo": {
     "elapsed": 6792,
     "status": "ok",
     "timestamp": 1583100758613,
     "user": {
      "displayName": "Amirsina Torfi",
      "photoUrl": "",
      "userId": "05259461406376019573"
     },
     "user_tz": 300
    },
    "id": "U3Pv_Om-WwHN",
    "outputId": "c69c9a75-3b6f-40da-f199-acd378a8523b"
   },
   "outputs": [
    {
     "data": {
      "text/html": [
       "<div>\n",
       "<style scoped>\n",
       "    .dataframe tbody tr th:only-of-type {\n",
       "        vertical-align: middle;\n",
       "    }\n",
       "\n",
       "    .dataframe tbody tr th {\n",
       "        vertical-align: top;\n",
       "    }\n",
       "\n",
       "    .dataframe thead th {\n",
       "        text-align: right;\n",
       "    }\n",
       "</style>\n",
       "<table border=\"1\" class=\"dataframe\">\n",
       "  <thead>\n",
       "    <tr style=\"text-align: right;\">\n",
       "      <th></th>\n",
       "      <th>CRIM</th>\n",
       "      <th>ZN</th>\n",
       "      <th>INDUS</th>\n",
       "      <th>CHAS</th>\n",
       "      <th>NOX</th>\n",
       "      <th>RM</th>\n",
       "      <th>AGE</th>\n",
       "      <th>DIS</th>\n",
       "      <th>RAD</th>\n",
       "      <th>TAX</th>\n",
       "      <th>PTRATION</th>\n",
       "      <th>B</th>\n",
       "      <th>LSTAT</th>\n",
       "      <th>MEDV</th>\n",
       "    </tr>\n",
       "  </thead>\n",
       "  <tbody>\n",
       "    <tr>\n",
       "      <th>496</th>\n",
       "      <td>0.28960</td>\n",
       "      <td>0.0</td>\n",
       "      <td>9.69</td>\n",
       "      <td>0</td>\n",
       "      <td>0.585</td>\n",
       "      <td>5.390</td>\n",
       "      <td>72.9</td>\n",
       "      <td>2.7986</td>\n",
       "      <td>6</td>\n",
       "      <td>391.0</td>\n",
       "      <td>19.2</td>\n",
       "      <td>396.90</td>\n",
       "      <td>21.14</td>\n",
       "      <td>19.7</td>\n",
       "    </tr>\n",
       "    <tr>\n",
       "      <th>497</th>\n",
       "      <td>0.26838</td>\n",
       "      <td>0.0</td>\n",
       "      <td>9.69</td>\n",
       "      <td>0</td>\n",
       "      <td>0.585</td>\n",
       "      <td>5.794</td>\n",
       "      <td>70.6</td>\n",
       "      <td>2.8927</td>\n",
       "      <td>6</td>\n",
       "      <td>391.0</td>\n",
       "      <td>19.2</td>\n",
       "      <td>396.90</td>\n",
       "      <td>14.10</td>\n",
       "      <td>18.3</td>\n",
       "    </tr>\n",
       "    <tr>\n",
       "      <th>498</th>\n",
       "      <td>0.23912</td>\n",
       "      <td>0.0</td>\n",
       "      <td>9.69</td>\n",
       "      <td>0</td>\n",
       "      <td>0.585</td>\n",
       "      <td>6.019</td>\n",
       "      <td>65.3</td>\n",
       "      <td>2.4091</td>\n",
       "      <td>6</td>\n",
       "      <td>391.0</td>\n",
       "      <td>19.2</td>\n",
       "      <td>396.90</td>\n",
       "      <td>12.92</td>\n",
       "      <td>21.2</td>\n",
       "    </tr>\n",
       "    <tr>\n",
       "      <th>499</th>\n",
       "      <td>0.17783</td>\n",
       "      <td>0.0</td>\n",
       "      <td>9.69</td>\n",
       "      <td>0</td>\n",
       "      <td>0.585</td>\n",
       "      <td>5.569</td>\n",
       "      <td>73.5</td>\n",
       "      <td>2.3999</td>\n",
       "      <td>6</td>\n",
       "      <td>391.0</td>\n",
       "      <td>19.2</td>\n",
       "      <td>395.77</td>\n",
       "      <td>15.10</td>\n",
       "      <td>17.5</td>\n",
       "    </tr>\n",
       "    <tr>\n",
       "      <th>500</th>\n",
       "      <td>0.22438</td>\n",
       "      <td>0.0</td>\n",
       "      <td>9.69</td>\n",
       "      <td>0</td>\n",
       "      <td>0.585</td>\n",
       "      <td>6.027</td>\n",
       "      <td>79.7</td>\n",
       "      <td>2.4982</td>\n",
       "      <td>6</td>\n",
       "      <td>391.0</td>\n",
       "      <td>19.2</td>\n",
       "      <td>396.90</td>\n",
       "      <td>14.33</td>\n",
       "      <td>16.8</td>\n",
       "    </tr>\n",
       "    <tr>\n",
       "      <th>501</th>\n",
       "      <td>0.06263</td>\n",
       "      <td>0.0</td>\n",
       "      <td>11.93</td>\n",
       "      <td>0</td>\n",
       "      <td>0.573</td>\n",
       "      <td>6.593</td>\n",
       "      <td>69.1</td>\n",
       "      <td>2.4786</td>\n",
       "      <td>1</td>\n",
       "      <td>273.0</td>\n",
       "      <td>21.0</td>\n",
       "      <td>391.99</td>\n",
       "      <td>9.67</td>\n",
       "      <td>22.4</td>\n",
       "    </tr>\n",
       "    <tr>\n",
       "      <th>502</th>\n",
       "      <td>0.04527</td>\n",
       "      <td>0.0</td>\n",
       "      <td>11.93</td>\n",
       "      <td>0</td>\n",
       "      <td>0.573</td>\n",
       "      <td>6.120</td>\n",
       "      <td>76.7</td>\n",
       "      <td>2.2875</td>\n",
       "      <td>1</td>\n",
       "      <td>273.0</td>\n",
       "      <td>21.0</td>\n",
       "      <td>396.90</td>\n",
       "      <td>9.08</td>\n",
       "      <td>20.6</td>\n",
       "    </tr>\n",
       "    <tr>\n",
       "      <th>503</th>\n",
       "      <td>0.06076</td>\n",
       "      <td>0.0</td>\n",
       "      <td>11.93</td>\n",
       "      <td>0</td>\n",
       "      <td>0.573</td>\n",
       "      <td>6.976</td>\n",
       "      <td>91.0</td>\n",
       "      <td>2.1675</td>\n",
       "      <td>1</td>\n",
       "      <td>273.0</td>\n",
       "      <td>21.0</td>\n",
       "      <td>396.90</td>\n",
       "      <td>5.64</td>\n",
       "      <td>23.9</td>\n",
       "    </tr>\n",
       "    <tr>\n",
       "      <th>504</th>\n",
       "      <td>0.10959</td>\n",
       "      <td>0.0</td>\n",
       "      <td>11.93</td>\n",
       "      <td>0</td>\n",
       "      <td>0.573</td>\n",
       "      <td>6.794</td>\n",
       "      <td>89.3</td>\n",
       "      <td>2.3889</td>\n",
       "      <td>1</td>\n",
       "      <td>273.0</td>\n",
       "      <td>21.0</td>\n",
       "      <td>393.45</td>\n",
       "      <td>6.48</td>\n",
       "      <td>22.0</td>\n",
       "    </tr>\n",
       "    <tr>\n",
       "      <th>505</th>\n",
       "      <td>0.04741</td>\n",
       "      <td>0.0</td>\n",
       "      <td>11.93</td>\n",
       "      <td>0</td>\n",
       "      <td>0.573</td>\n",
       "      <td>6.030</td>\n",
       "      <td>80.8</td>\n",
       "      <td>2.5050</td>\n",
       "      <td>1</td>\n",
       "      <td>273.0</td>\n",
       "      <td>21.0</td>\n",
       "      <td>396.90</td>\n",
       "      <td>7.88</td>\n",
       "      <td>11.9</td>\n",
       "    </tr>\n",
       "  </tbody>\n",
       "</table>\n",
       "</div>"
      ],
      "text/plain": [
       "        CRIM   ZN  INDUS  CHAS    NOX     RM   AGE     DIS  RAD    TAX  \\\n",
       "496  0.28960  0.0   9.69     0  0.585  5.390  72.9  2.7986    6  391.0   \n",
       "497  0.26838  0.0   9.69     0  0.585  5.794  70.6  2.8927    6  391.0   \n",
       "498  0.23912  0.0   9.69     0  0.585  6.019  65.3  2.4091    6  391.0   \n",
       "499  0.17783  0.0   9.69     0  0.585  5.569  73.5  2.3999    6  391.0   \n",
       "500  0.22438  0.0   9.69     0  0.585  6.027  79.7  2.4982    6  391.0   \n",
       "501  0.06263  0.0  11.93     0  0.573  6.593  69.1  2.4786    1  273.0   \n",
       "502  0.04527  0.0  11.93     0  0.573  6.120  76.7  2.2875    1  273.0   \n",
       "503  0.06076  0.0  11.93     0  0.573  6.976  91.0  2.1675    1  273.0   \n",
       "504  0.10959  0.0  11.93     0  0.573  6.794  89.3  2.3889    1  273.0   \n",
       "505  0.04741  0.0  11.93     0  0.573  6.030  80.8  2.5050    1  273.0   \n",
       "\n",
       "     PTRATION       B  LSTAT  MEDV  \n",
       "496      19.2  396.90  21.14  19.7  \n",
       "497      19.2  396.90  14.10  18.3  \n",
       "498      19.2  396.90  12.92  21.2  \n",
       "499      19.2  395.77  15.10  17.5  \n",
       "500      19.2  396.90  14.33  16.8  \n",
       "501      21.0  391.99   9.67  22.4  \n",
       "502      21.0  396.90   9.08  20.6  \n",
       "503      21.0  396.90   5.64  23.9  \n",
       "504      21.0  393.45   6.48  22.0  \n",
       "505      21.0  396.90   7.88  11.9  "
      ]
     },
     "execution_count": 5,
     "metadata": {},
     "output_type": "execute_result"
    }
   ],
   "source": [
    "column_names = ['CRIM','ZN','INDUS','CHAS','NOX',\n",
    "                'RM', 'AGE', 'DIS','RAD','TAX','PTRATION', 'B', 'LSTAT', 'MEDV']\n",
    "raw_dataset = pd.read_csv(dataset_path, names=column_names,\n",
    "                      na_values = \"?\", comment='\\t',\n",
    "                      sep=\" \", skipinitialspace=True)\n",
    "# Create a dataset instant\n",
    "dataset = raw_dataset.copy()\n",
    "\n",
    "# This function returns last n rows from the object \n",
    "# based on position.\n",
    "dataset.tail(n=10)"
   ]
  },
  {
   "cell_type": "markdown",
   "metadata": {
    "colab_type": "text",
    "id": "nf8QJRMeh910"
   },
   "source": [
    "### Data processing (train/test split)"
   ]
  },
  {
   "cell_type": "code",
   "execution_count": 6,
   "metadata": {
    "colab": {},
    "colab_type": "code",
    "id": "Vd0uyKsFgyQ0"
   },
   "outputs": [],
   "source": [
    "# Split data into train/test\n",
    "# p = training data portion\n",
    "p=0.8\n",
    "trainDataset = dataset.sample(frac=p,random_state=0)\n",
    "testDataset = dataset.drop(trainDataset.index)"
   ]
  },
  {
   "cell_type": "markdown",
   "metadata": {
    "colab_type": "text",
    "id": "4vC8cz0chjL1"
   },
   "source": [
    "## linear regression with one variable\n",
    "\n",
    "Here, we desire to model the relationship between the dependent variable and the independent variable. In the linear regression with one variable, *we only have **one** independent variable*.\n",
    "\n",
    "* Independent variable: 'RM'\n",
    "* Dependent variable: 'MEDV'\n",
    "\n",
    "In a simple word, we want to **predict** the Median value of owner-occupied homes in $1000’s [target attribute] based on the average number of rooms per dwelling (RM)."
   ]
  },
  {
   "cell_type": "markdown",
   "metadata": {
    "colab_type": "text",
    "id": "KY0vmL_PhIPn"
   },
   "source": [
    "### Plot dependecy to one variable (linear regression with one variable)\n",
    "\n",
    "Here we want to plot the MEDV against RM, i.e, visualize how MEDV is changed by changing RM. Basically we have $MEDV=f(RM)$ and we desire to estimate the function $f(.)$ using a linear regression.\n",
    "\n"
   ]
  },
  {
   "cell_type": "code",
   "execution_count": 7,
   "metadata": {
    "colab": {
     "base_uri": "https://localhost:8080/",
     "height": 279
    },
    "colab_type": "code",
    "executionInfo": {
     "elapsed": 6778,
     "status": "ok",
     "timestamp": 1583100758614,
     "user": {
      "displayName": "Amirsina Torfi",
      "photoUrl": "",
      "userId": "05259461406376019573"
     },
     "user_tz": 300
    },
    "id": "E_R3ADmzgmo0",
    "outputId": "5ea31840-5afd-497c-839d-a9c9ecea5994"
   },
   "outputs": [
    {
     "data": {
      "image/png": "[encoded data removed]",
      "text/plain": [
       "<Figure size 432x288 with 1 Axes>"
      ]
     },
     "metadata": {
      "needs_background": "light"
     },
     "output_type": "display_data"
    }
   ],
   "source": [
    "# Visual representation of training data\n",
    "import matplotlib.pyplot as plt\n",
    "fig, ax = plt.subplots()\n",
    "# With .pop() command, the associated columns are extracted.\n",
    "x = trainDataset['RM']\n",
    "y = trainDataset['MEDV']\n",
    "ax.scatter(x, y, edgecolors=(0, 0, 0))\n",
    "ax.set_xlabel('RM')\n",
    "ax.set_ylabel('MEDV')\n",
    "plt.show()"
   ]
  },
  {
   "cell_type": "markdown",
   "metadata": {
    "colab_type": "text",
    "id": "M-EpBay_M3_X"
   },
   "source": [
    "### Split train/test data and labels for linear regression for one variable experiments\n",
    "\n",
    "We can use two approaches to access the columns:\n",
    "\n",
    "1. **Pop command:** It returns an item and drops it from the frame. After using trainDataset.pop('RM'), the 'RM' column does not exist in the trainDataset frame anymore!\n",
    "2. Using the **indexing with labels**. Example trainDataset['RM']\n",
    "\n",
    "We use approach **(2)**."
   ]
  },
  {
   "cell_type": "code",
   "execution_count": 8,
   "metadata": {
    "colab": {},
    "colab_type": "code",
    "id": "dgOBhSaniDHx"
   },
   "outputs": [],
   "source": [
    "# Pop command return item and drop it from frame.\n",
    "# After using trainDataset.pop('RM'), the 'RM' column \n",
    "# does not exist in the trainDataset frame anymore!\n",
    "trainInput = trainDataset['RM']\n",
    "trainTarget = trainDataset['MEDV']\n",
    "testInput = testDataset['RM']\n",
    "testTarget = testDataset['MEDV']"
   ]
  },
  {
   "cell_type": "markdown",
   "metadata": {
    "colab_type": "text",
    "id": "9X6hRnkpRoPY"
   },
   "source": [
    "### Data normalization/standardization\n",
    "\n",
    "*It is not needed for simple linear regression (linear regression with one variable).*\n",
    "\n",
    "1. **Standardization**: Standardizing the features around the center and 0 with a standard deviation of 1. Assume we have features that have different units. So just becasue of the scaling do not contribute equally to the analysis and create misleading result. Formula: $\\hat{X}=\\frac{X-\\mu}{\\sigma}$\n",
    "\n",
    "2. **Normalization**: Normalization aims to put the values of different features to a common scale (usually [0,1] or [-1,1]). This is used when features have different ranges but the same units. **Example**: Assume we have an RGB image. *Each channel has a different range but all channels have the same units: image pixel*! Formula: $\\hat{X}=\\frac{X-X_{min}}{X_{max}-X_{min}}$"
   ]
  },
  {
   "cell_type": "markdown",
   "metadata": {
    "colab_type": "text",
    "id": "VXA8J28QWYMH"
   },
   "source": [
    "### Create Model\n",
    "\n",
    "1. The architecture of the model\n",
    "2. Defining the optimizer\n",
    "3. Compile the model and return the graph\n",
    "\n",
    "Assume we desire to find the parameters (**W**) that predict the\n",
    "output y from x in a linear fashion:\n",
    "\n",
    "$y = w_1 x + w_0$\n",
    "\n",
    "The above can be defined with the following dense layer:\n",
    "\n",
    "*layers.Dense(1, use_bias=True, input_shape=(1,))*\n"
   ]
  },
  {
   "cell_type": "code",
   "execution_count": 9,
   "metadata": {
    "colab": {
     "base_uri": "https://localhost:8080/",
     "height": 187
    },
    "colab_type": "code",
    "executionInfo": {
     "elapsed": 7049,
     "status": "ok",
     "timestamp": 1583100758903,
     "user": {
      "displayName": "Amirsina Torfi",
      "photoUrl": "",
      "userId": "05259461406376019573"
     },
     "user_tz": 300
    },
    "id": "okLiiirkWaot",
    "outputId": "770bc892-774f-4e78-ab75-1375d7b06a1f"
   },
   "outputs": [
    {
     "name": "stdout",
     "output_type": "stream",
     "text": [
      "('Failed to import pydot. You must `pip install pydot` and install graphviz (https://graphviz.gitlab.io/download/), ', 'for `pydotprint` to work.')\n",
      "Model: \"sequential\"\n",
      "_________________________________________________________________\n",
      "Layer (type)                 Output Shape              Param #   \n",
      "=================================================================\n",
      "layer (Dense)                (None, 1)                 2         \n",
      "=================================================================\n",
      "Total params: 2\n",
      "Trainable params: 2\n",
      "Non-trainable params: 0\n",
      "_________________________________________________________________\n"
     ]
    }
   ],
   "source": [
    "# We don't specify anything for activation -> no activation is applied (ie. \"linear\" activation: a(x) = x)\n",
    "# Check: https://www.tensorflow.org/api_docs/python/tf/keras/layers/Dense\n",
    "\n",
    "def linear_model():\n",
    "  model = keras.Sequential([\n",
    "        layers.Dense(1, use_bias=True, input_shape=(1,), name='layer')\n",
    "      ])\n",
    "\n",
    "  # Using adam optimizer\n",
    "  optimizer = tf.keras.optimizers.Adam(\n",
    "      learning_rate=0.01, beta_1=0.9, beta_2=0.99, epsilon=1e-05, amsgrad=False,\n",
    "      name='Adam')\n",
    "    \n",
    "  # Check: https://www.tensorflow.org/api_docs/python/tf/keras/Model\n",
    "  # loss: String (name of objective function), objective function or tf.keras.losses.Loss instance. See tf.keras.losses.\n",
    "  # optimizer: String (name of optimizer) or optimizer instance. See tf.keras.optimizers.\n",
    "  # metrics: List of metrics to be evaluated by the model during training and testing\n",
    "  model.compile(loss='mse', optimizer=optimizer, metrics=['mae','mse'])\n",
    "\n",
    "  return model\n",
    "\n",
    "# Create model instant\n",
    "model = linear_model()\n",
    "\n",
    "# Model plot\n",
    "tf.keras.utils.plot_model(\n",
    "  model, to_file='model.png', show_shapes=True, show_layer_names=True,\n",
    "  rankdir='TB', expand_nested=False, dpi=100\n",
    "  )\n",
    "\n",
    "# Print the model summary\n",
    "model.summary()"
   ]
  },
  {
   "cell_type": "markdown",
   "metadata": {
    "colab_type": "text",
    "id": "6ny4wr5l3M_k"
   },
   "source": [
    "### Training loop\n",
    "Fit the model to the data\n",
    "\n",
    "* n_epochs: number of epochs\n",
    "* validation_split: keep a portion of training data for unbiased validation\n",
    "* verbose: set to 0 as we want a short summary and not all the details!!\n",
    "* callbacks: A callback is a tool to customize the behavior of a the model during training, testing, etc."
   ]
  },
  {
   "cell_type": "code",
   "execution_count": 15,
   "metadata": {
    "colab": {
     "base_uri": "https://localhost:8080/",
     "height": 425
    },
    "colab_type": "code",
    "executionInfo": {
     "elapsed": 26128,
     "status": "ok",
     "timestamp": 1583100777990,
     "user": {
      "displayName": "Amirsina Torfi",
      "photoUrl": "",
      "userId": "05259461406376019573"
     },
     "user_tz": 300
    },
    "id": "YKMSaOXnXmOT",
    "outputId": "9ea44c94-9eec-489f-bf04-22aa88a51116"
   },
   "outputs": [
    {
     "name": "stdout",
     "output_type": "stream",
     "text": [
      "Checkpoint is saved for each 81000 samples\n",
      "WARNING:tensorflow:Callbacks method `on_train_batch_end` is slow compared to the batch time (batch time: 0.0009s vs `on_train_batch_end` time: 0.0154s). Check your callbacks.\n",
      "Epoch 0, loss 44.77, val_loss 85.02, mae 4.66, val_mae 6.15, mse 44.77, val_mse 85.02\n",
      "Epoch 200, loss 44.10, val_loss 85.02, mae 4.61, val_mae 6.11, mse 44.10, val_mse 85.02\n",
      "Epoch 400, loss 43.52, val_loss 84.61, mae 4.56, val_mae 6.06, mse 43.52, val_mse 84.61\n"
     ]
    }
   ],
   "source": [
    "# params\n",
    "n_epochs = 4000\n",
    "batch_size = 256\n",
    "n_idle_epochs = 100\n",
    "n_epochs_log = 200\n",
    "n_samples_save = n_epochs_log * trainInput.shape[0]\n",
    "print('Checkpoint is saved for each {} samples'.format(n_samples_save))\n",
    "\n",
    "# A mechanism that stops training if the validation loss is not improving for more than n_idle_epochs.\n",
    "#See https://www.tensorflow.org/api_docs/python/tf/keras/callbacks/EarlyStopping for details.\n",
    "earlyStopping = tf.keras.callbacks.EarlyStopping(monitor='val_loss', patience=n_idle_epochs, min_delta=0.001)\n",
    "\n",
    "# Creating a custom callback to print the log after a certain number of epochs\n",
    "# Check: https://www.tensorflow.org/api_docs/python/tf/keras/callbacks\n",
    "predictions_list = []\n",
    "class NEPOCHLogger(tf.keras.callbacks.Callback):\n",
    "    def __init__(self,per_epoch=100):\n",
    "        '''\n",
    "        display: Number of batches to wait before outputting loss\n",
    "        '''\n",
    "        self.seen = 0\n",
    "        self.per_epoch = per_epoch\n",
    "    \n",
    "    def on_epoch_end(self, epoch, logs=None):\n",
    "      if epoch % self.per_epoch == 0:\n",
    "        print('Epoch {}, loss {:.2f}, val_loss {:.2f}, mae {:.2f}, val_mae {:.2f}, mse {:.2f}, val_mse {:.2f}'\\\n",
    "              .format(epoch, logs['loss'], logs['val_loss'],logs['mae'], logs['val_mae'],logs['mse'], logs['val_mse']))\n",
    "              \n",
    "# Call the object\n",
    "log_display = NEPOCHLogger(per_epoch=n_epochs_log)\n",
    "\n",
    "# Include the epoch in the file name (uses `str.format`)\n",
    "import os\n",
    "checkpoint_path = \"training/cp-{epoch:05d}.ckpt\"\n",
    "checkpoint_dir = os.path.dirname(checkpoint_path)\n",
    "\n",
    "# Create a callback that saves the model's weights every 5 epochs\n",
    "checkpointCallback = tf.keras.callbacks.ModelCheckpoint(\n",
    "    filepath=checkpoint_path, \n",
    "    verbose=1, \n",
    "    save_weights_only=True,\n",
    "    save_freq=n_samples_save)\n",
    "\n",
    "# Save the weights using the `checkpoint_path` format\n",
    "model.save_weights(checkpoint_path.format(epoch=0))\n",
    "\n",
    "# Define the Keras TensorBoard callback.\n",
    "logdir=\"logs/fit/\" + datetime.now().strftime(\"%Y%m%d-%H%M%S\")\n",
    "tensorboard_callback = keras.callbacks.TensorBoard(log_dir=logdir)\n",
    "\n",
    "history = model.fit(\n",
    "  trainInput, trainTarget, batch_size=batch_size,\n",
    "  epochs=n_epochs, validation_split = 0.1, verbose=0, callbacks=[earlyStopping,log_display,tensorboard_callback,checkpointCallback])"
   ]
  },
  {
   "cell_type": "code",
   "execution_count": 11,
   "metadata": {
    "colab": {},
    "colab_type": "code",
    "id": "dYoSC4hF8pKo"
   },
   "outputs": [],
   "source": [
    "# %tensorboard --logdir logs"
   ]
  },
  {
   "cell_type": "code",
   "execution_count": 12,
   "metadata": {
    "colab": {
     "base_uri": "https://localhost:8080/",
     "height": 302
    },
    "colab_type": "code",
    "executionInfo": {
     "elapsed": 27623,
     "status": "ok",
     "timestamp": 1583100779501,
     "user": {
      "displayName": "Amirsina Torfi",
      "photoUrl": "",
      "userId": "05259461406376019573"
     },
     "user_tz": 300
    },
    "id": "uVvegIVGXvbv",
    "outputId": "4ea6d077-806e-4613-c825-7e893828ae11"
   },
   "outputs": [
    {
     "name": "stdout",
     "output_type": "stream",
     "text": [
      "keys: dict_keys(['loss', 'mae', 'mse', 'val_loss', 'val_mae', 'val_mse'])\n"
     ]
    },
    {
     "data": {
      "text/plain": [
       "<matplotlib.axes._subplots.AxesSubplot at 0x7ff94ad8ffd0>"
      ]
     },
     "execution_count": 12,
     "metadata": {},
     "output_type": "execute_result"
    },
    {
     "data": {
      "image/png": "[encoded data removed]",
      "text/plain": [
       "<Figure size 432x288 with 1 Axes>"
      ]
     },
     "metadata": {},
     "output_type": "display_data"
    }
   ],
   "source": [
    "import numpy as np\n",
    "import pandas as pd\n",
    "import seaborn as sns\n",
    "\n",
    "# The fit model returns the history object for each Keras model\n",
    "# Let's explore what is inside history\n",
    "print('keys:', history.history.keys())\n",
    "\n",
    "# Returning the desired values for plotting and turn to numpy array\n",
    "mae = np.asarray(history.history['mae'])\n",
    "val_mae = np.asarray(history.history['val_mae'])\n",
    "\n",
    "# Creating the data frame\n",
    "num_values = (len(mae))\n",
    "values = np.zeros((num_values,2), dtype=float)\n",
    "values[:,0] = mae\n",
    "values[:,1] = val_mae\n",
    "\n",
    "# Using pandas to frame the data\n",
    "steps = pd.RangeIndex(start=0,stop=num_values)\n",
    "data = pd.DataFrame(values, steps, columns=[\"training-mae\", \"val-mae\"])\n",
    "\n",
    "# Plotting\n",
    "sns.set(style=\"whitegrid\")\n",
    "sns.lineplot(data=data, palette=\"tab10\", linewidth=2.5)"
   ]
  },
  {
   "cell_type": "code",
   "execution_count": 13,
   "metadata": {
    "colab": {
     "base_uri": "https://localhost:8080/",
     "height": 289
    },
    "colab_type": "code",
    "executionInfo": {
     "elapsed": 27930,
     "status": "ok",
     "timestamp": 1583100779818,
     "user": {
      "displayName": "Amirsina Torfi",
      "photoUrl": "",
      "userId": "05259461406376019573"
     },
     "user_tz": 300
    },
    "id": "wu3b5tPiZZTR",
    "outputId": "dfc06112-7bbe-4b86-8cfa-22c7144e8373"
   },
   "outputs": [
    {
     "data": {
      "image/png": "[encoded data removed]",
      "text/plain": [
       "<Figure size 432x288 with 1 Axes>"
      ]
     },
     "metadata": {},
     "output_type": "display_data"
    }
   ],
   "source": [
    "predictions = model.predict(testInput).flatten()\n",
    "a = plt.axes(aspect='equal')\n",
    "plt.scatter(predictions, testTarget, edgecolors=(0, 0, 0))\n",
    "plt.xlabel('True Values')\n",
    "plt.ylabel('Predictions')\n",
    "lims = [0, 50]\n",
    "plt.xlim(lims)\n",
    "plt.ylim(lims)\n",
    "_ = plt.plot(lims, lims)"
   ]
  },
  {
   "cell_type": "markdown",
   "metadata": {
    "colab_type": "text",
    "id": "Mu6HH0RtcNGW"
   },
   "source": [
    "### Track the model improvement progression"
   ]
  },
  {
   "cell_type": "code",
   "execution_count": 14,
   "metadata": {
    "colab": {
     "base_uri": "https://localhost:8080/",
     "height": 54
    },
    "colab_type": "code",
    "executionInfo": {
     "elapsed": 27922,
     "status": "ok",
     "timestamp": 1583100779819,
     "user": {
      "displayName": "Amirsina Torfi",
      "photoUrl": "",
      "userId": "05259461406376019573"
     },
     "user_tz": 300
    },
    "id": "BdELiukA9b5j",
    "outputId": "873a6acb-8128-444f-803f-5acaad0bcbe6"
   },
   "outputs": [
    {
     "name": "stdout",
     "output_type": "stream",
     "text": [
      "checkpoints: ['cp-00000.ckpt']\n"
     ]
    }
   ],
   "source": [
    "# Get the saved checkpoint files\n",
    "checkpoints = []\n",
    "for f_name in os.listdir(checkpoint_dir):\n",
    "  if f_name.startswith('cp-'):\n",
    "    file_with_no_ext = os.path.splitext(f_name)[0]\n",
    "    checkpoints.append(file_with_no_ext)\n",
    "\n",
    "# Return unique list elements\n",
    "checkpoints = list(set(checkpoints))\n",
    "print('checkpoints:',checkpoints)\n",
    "\n",
    "# Load all model checkpoints and evaluate for each\n",
    "count = 0\n",
    "model_improvement_progress = False\n",
    "if model_improvement_progress:\n",
    "  for checkpoint in checkpoints:\n",
    "    count += 1\n",
    "\n",
    "    # Call model instant\n",
    "    model = linear_model()\n",
    "    \n",
    "    # Restore the weights\n",
    "    path = os.path.join('training',checkpoint)\n",
    "    model.load_weights(path)\n",
    "\n",
    "    # Access to layer weights\n",
    "    layer = model.get_layer('layer')\n",
    "    w1,w0 = layer.get_weights()\n",
    "    w1 = float(w1[0])\n",
    "    w0 = float(w0[0])\n",
    "    \n",
    "    # Draw the scatter plot of data\n",
    "    fig, ax = plt.subplots()\n",
    "    x = testInput\n",
    "    y = testTarget\n",
    "    ax.scatter(x, y, edgecolors=(0, 0, 0))\n",
    "    ax.set_xlabel('RM')\n",
    "    ax.set_ylabel('MEDV')\n",
    "    \n",
    "    # Plot the line\n",
    "    y_hat = w1*x + w0\n",
    "    plt.plot(x, y_hat, '-r')\n",
    "    plt.savefig(os.path.join('/content/drive/linearregression', str(checkpoint)+'.png'))\n"
   ]
  },
  {
   "cell_type": "code",
   "execution_count": null,
   "metadata": {
    "colab": {},
    "colab_type": "code",
    "id": "KniAsElx9cqB"
   },
   "outputs": [],
   "source": []
  }
 ],
 "metadata": {
  "colab": {
   "authorship_tag": "ABX9TyObgeQAF3od64Ig3KWUa2RZ",
   "collapsed_sections": [],
   "mount_file_id": "1cf8hg-ItpxLTsxbfuGmI9jhPx7H7yPUF",
   "name": "linearRegressionOneVariable",
   "provenance": [
    {
     "file_id": "123ArM2Az91V3pC9oS8aLK42KtN7-TfPx",
     "timestamp": 1582860491262
    }
   ]
  },
  "kernelspec": {
   "display_name": "Python 3",
   "language": "python",
   "name": "python3"
  },
  "language_info": {
   "codemirror_mode": {
    "name": "ipython",
    "version": 3
   },
   "file_extension": ".py",
   "mimetype": "text/x-python",
   "name": "python",
   "nbconvert_exporter": "python",
   "pygments_lexer": "ipython3",
   "version": "3.7.0"
  }
 },
 "nbformat": 4,
 "nbformat_minor": 1
}

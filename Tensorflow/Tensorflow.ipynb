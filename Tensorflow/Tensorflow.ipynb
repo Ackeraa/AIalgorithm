{
 "cells": [
  {
   "cell_type": "code",
   "execution_count": 8,
   "metadata": {},
   "outputs": [
    {
     "name": "stdout",
     "output_type": "stream",
     "text": [
      "Tensorflow version:  2.3.0\n",
      "Tensorflow is built with CUDA:  False\n",
      "All devies:  [PhysicalDevice(name='/physical_device:CPU:0', device_type='CPU'), PhysicalDevice(name='/physical_device:XLA_CPU:0', device_type='XLA_CPU')]\n",
      "GPU device:  []\n",
      "tf.Tensor(2.07612, shape=(), dtype=float32)\n"
     ]
    }
   ],
   "source": [
    "import tensorflow as tf\n",
    "\n",
    "print(\"Tensorflow version: \", tf.__version__)\n",
    "\n",
    "print(\"Tensorflow is built with CUDA: \", tf.test.is_built_with_cuda())\n",
    "\n",
    "print(\"All devies: \", tf.config.list_physical_devices(device_type=None))\n",
    "\n",
    "print(\"GPU device: \", tf.config.list_physical_devices(device_type='GPU'))\n",
    "\n",
    "print(tf.math.reduce_sum(tf.random.normal([1, 10])))\n",
    "\n"
   ]
  },
  {
   "cell_type": "code",
   "execution_count": 22,
   "metadata": {},
   "outputs": [
    {
     "name": "stdout",
     "output_type": "stream",
     "text": [
      "output:  [5.0, 10.0, 15.0, 0.5]\n"
     ]
    }
   ],
   "source": [
    "from __future__ import print_function\n",
    "import tensorflow.compat.v1 as tf\n",
    "import os\n",
    "\n",
    "tf.disable_v2_behavior()\n",
    "\n",
    "a = tf.constant(5.0, name = \"a\")\n",
    "b = tf.constant(10.0, name = \"b\")\n",
    "\n",
    "x = tf.add(a, b, name = \"add\")\n",
    "y = tf.div(a, b, name = \"divide\")\n",
    "\n",
    "with tf.Session() as sess:\n",
    "    writer = tf.summary.FileWriter(\"./logs\", sess.graph)\n",
    "    print(\"output: \", sess.run([a, b, x, y]))  \n",
    "writer.close()    \n",
    "sess.close()"
   ]
  },
  {
   "cell_type": "code",
   "execution_count": 26,
   "metadata": {},
   "outputs": [],
   "source": [
    "from tensorflow.python.framework import ops\n",
    "import tensorflow.compat.v1 as tf\n",
    "\n",
    "tf.disable_v2_behavior()\n",
    "\n",
    "weights = tf.Variable(tf.random_normal([2, 3], stddev = 0.1), \n",
    "                     name = \"weights\")\n",
    "\n",
    "biases = tf.Variable(tf.zeros([3]), name = \"biases\")\n",
    "custom_variable = tf.Variable(tf.zeros([3]), name = \"custom\")\n",
    "\n",
    "#初始化\n",
    "variable_list_custom = [weights, custom_variable]\n",
    "init_custom_op = tf.variables_initializer(var_list = variable_list_custom)\n",
    "\n",
    "#全局变量初始化\n",
    "#Method-1\n",
    "init_all_op = tf.global_variables_initializer()\n",
    "\n",
    "#Method-2\n",
    "all_variables_list = ops.get_collection(ops.GraphKeys.GLOBAL_VARIABLES)\n",
    "init_all_op = tf.variables_initializer(var_list = all_variables_list)\n"
   ]
  },
  {
   "cell_type": "code",
   "execution_count": 79,
   "metadata": {},
   "outputs": [
    {
     "name": "stdout",
     "output_type": "stream",
     "text": [
      "2.3.0\n",
      "The tensorboard extension is already loaded. To reload it, use:\n",
      "  %reload_ext tensorboard\n",
      "Tensorflow.ipynb                  \u001b[1m\u001b[36mpng\u001b[m\u001b[m\n",
      "cs.py                             \u001b[1m\u001b[36mtraining\u001b[m\u001b[m\n",
      "linearRegressionOneVariable.ipynb\n"
     ]
    },
    {
     "data": {
      "image/png": "[encoded data removed]",
      "text/plain": [
       "<Figure size 432x288 with 1 Axes>"
      ]
     },
     "metadata": {},
     "output_type": "display_data"
    },
    {
     "name": "stdout",
     "output_type": "stream",
     "text": [
      "('Failed to import pydot. You must `pip install pydot` and install graphviz (https://graphviz.gitlab.io/download/), ', 'for `pydotprint` to work.')\n",
      "Model: \"sequential_27\"\n",
      "_________________________________________________________________\n",
      "Layer (type)                 Output Shape              Param #   \n",
      "=================================================================\n",
      "layer (Dense)                (None, 1)                 2         \n",
      "=================================================================\n",
      "Total params: 2\n",
      "Trainable params: 2\n",
      "Non-trainable params: 0\n",
      "_________________________________________________________________\n"
     ]
    }
   ],
   "source": [
    "#线性回归\n",
    "\n",
    "from __future__ import absolute_import, division, print_function, unicode_literals\n",
    "import pathlib\n",
    "import matplotlib.pyplot as plt\n",
    "import numpy as np\n",
    "import pandas as pd\n",
    "import seaborn as sns\n",
    "from datetime import datetime\n",
    "import os\n",
    "\n",
    "try:\n",
    "    %tensorflow_version 2.x\n",
    "except Exception:\n",
    "    pass\n",
    "import tensorflow as tf\n",
    "from tensorflow import keras\n",
    "from tensorflow.keras import layers\n",
    "print(tf.__version__)\n",
    "\n",
    "%load_ext tensorboard\n",
    "\n",
    "!rm -rf ./logs/\n",
    "!ls\n",
    "\n",
    "dataset_path = keras.utils.get_file(\"housing.data\", \"https://archive.ics.uci.edu/ml/machine-learning-databases/housing/housing.data\")\n",
    "\n",
    "column_names = ['CRIM','ZN','INDUS','CHAS','NOX',\n",
    "                'RM', 'AGE', 'DIS','RAD','TAX','PTRATION', 'B', 'LSTAT', 'MEDV']\n",
    "raw_dataset = pd.read_csv(dataset_path, names = column_names, \n",
    "                         na_values = \"?\", comment = '\\t',\n",
    "                         sep = \" \", skipinitialspace = True)\n",
    "\n",
    "# Create a dataset instant\n",
    "dataset = raw_dataset.copy()\n",
    "\n",
    "# show last 10 data\n",
    "dataset.tail(n = 10)\n",
    "\n",
    "p = 0.8\n",
    "trainDataset = dataset.sample(frac = p, random_state = 0)\n",
    "testDataset = dataset.drop(trainDataset.index)\n",
    "\n",
    "fig, ax = plt.subplots()\n",
    "\n",
    "x = trainDataset['RM']\n",
    "y = trainDataset['MEDV']\n",
    "ax.scatter(x, y, edgecolors = (0, 0, 0))\n",
    "ax.set_xlabel('RM')\n",
    "ax.set_ylabel('MEDV')\n",
    "plt.show()\n",
    "\n",
    "trainInput = trainDataset['RM']\n",
    "trainTarget = trainDataset['MEDV']\n",
    "testInput = testDataset['RM']\n",
    "testTarget = testDataset['MEDV']\n",
    "\n",
    "def linear_model():\n",
    "    model = keras.Sequential([\n",
    "        layers.Dense(1, use_bias = True, input_shape = (1, ), name = 'layer')\n",
    "    ])\n",
    "    \n",
    "    # Using adam optimizer\n",
    "    optimizer = tf.keras.optimizers.Adam(\n",
    "    learning_rate = 0.01, beta_1 = 0.9, beta_2 = 0.99, epsilon = 1e-05, amsgrad = False,\n",
    "    name = 'Adam')\n",
    "    \n",
    "    model.compile(loss = 'mse', optimizer = optimizer, metrics = ['mae', 'mse'])\n",
    "    \n",
    "    return model\n",
    "\n",
    "# Creat model instant\n",
    "model = linear_model()\n",
    "\n",
    "# Model plot\n",
    "tf.keras.utils.plot_model(\n",
    "model, to_file = 'mode1.png', show_shapes = True, show_layer_names = True,\n",
    "rankdir = 'TB', expand_nested = False, dpi = 100)\n",
    "\n",
    "# Print the model summary\n",
    "model.summary()\n",
    "\n",
    "\n"
   ]
  },
  {
   "cell_type": "code",
   "execution_count": null,
   "metadata": {},
   "outputs": [],
   "source": [
    "# Trainning model\n",
    "\n",
    "#params\n",
    "n_epochs = 4000\n",
    "batch_size = 256\n",
    "n_idle_epochs = 100\n",
    "n_epochs_log = 200\n",
    "n_samples_save = n_epochs_log * trainInput.shape[0]\n",
    "print('Checkpoint is saved for each {} samples'.format(n_samples_save))\n",
    "\n",
    "# A mechanism that stops training if the validation loss is not improving for more than n_idle_epochs.\n",
    "earlyStopping = tf.keras.callbacks.EarlyStopping(monitor = 'val_loss', patience = n_idle_epochs, min_delta = 0.001)\n",
    "\n",
    "# Print the log after a certain number of epochs\n",
    "predictions_list = []\n",
    "\n",
    "\n",
    "class NEPOCHLogger(tf.keras.callbacks.Callback):\n",
    "    def __init__(self, per_epoch = 100):\n",
    "        self.seen = 0\n",
    "        self.per_epoch = per_epoch\n",
    "        \n",
    "        \n",
    "    def on_epoch_end(self, epoch, logs=None):\n",
    "         if epoch % self.per_epoch == 0:\n",
    "                print('Epoch {}, loss {:.2f}, val_loss {:.2f}'.format(epoch, logs['loss'], logs['val_loss']))\n",
    "              \n",
    "# Call the object\n",
    "log_display = NEPOCHLogger(per_epoch = n_epochs_log)\n",
    "\n",
    "# Include the epoch in the file name\n",
    "checkpoint_path = \"training/cp-{epoch:05d}.ckpt\"\n",
    "checkpoint_dir = os.path.dirname(checkpoint_path)\n",
    "\n",
    "# Create a callback that saves the model's weights every 5 epochs\n",
    "checkpointCallback = tf.keras.callbacks.ModelCheckpoint(\n",
    "    filepath = checkpoint_path,\n",
    "    verbose = 1,\n",
    "    save_weights_only = True,\n",
    "    save_freq = n_samples_save)\n",
    "\n",
    "# Save the weights using the `checkpoint_path` format\n",
    "model.save_weights(checkpoint_path.format(epoch = 0))\n",
    "\n",
    "# Define the Keras TensorBoard callback\n",
    "logdir = \"logs/fit/\" + datetime.now().strftime(\"%Y%m%d-%H%M%S\")\n",
    "tensorboard_callback = keras.callbacks.TensorBoard(log_dir = logdir)\n",
    "      \n",
    "history = model.fit(\n",
    "    trainInput, trainTarget, batch_size = batch_size,\n",
    "    epochs = n_epochs, validation_split = 0.1, verbose = 0, \n",
    "    callbacks = [earlyStopping, log_display, tensorboard_callback, checkpointCallback])\n"
   ]
  },
  {
   "cell_type": "code",
   "execution_count": 66,
   "metadata": {},
   "outputs": [
    {
     "name": "stdout",
     "output_type": "stream",
     "text": [
      "keys: dict_keys(['loss', 'mean_absolute_error', 'mean_squared_error', 'val_loss', 'val_mean_absolute_error', 'val_mean_squared_error'])\n"
     ]
    },
    {
     "data": {
      "text/plain": [
       "<matplotlib.axes._subplots.AxesSubplot at 0x7f91168dde10>"
      ]
     },
     "execution_count": 66,
     "metadata": {},
     "output_type": "execute_result"
    },
    {
     "data": {
      "image/png": "[encoded data removed]",
      "text/plain": [
       "<Figure size 432x288 with 1 Axes>"
      ]
     },
     "metadata": {},
     "output_type": "display_data"
    }
   ],
   "source": [
    "\n",
    "# The fit model returns the history object for each Keras model\n",
    "print('keys:', history.history.keys())\n",
    "\n",
    "mae = np.asarray(history.history['mean_absolute_error'])\n",
    "val_mae = np.asarray(history.history['val_mean_absolute_error'])\n",
    "\n",
    "# Creating the data frame\n",
    "num_values = (len(mae))\n",
    "values = np.zeros((num_values, 2), dtype = float)\n",
    "values[:, 0] = mae\n",
    "values[:, 1] = val_mae\n",
    "\n",
    "# Using pandas to frame the data\n",
    "steps = pd.RangeIndex(start = 0, stop = num_values)\n",
    "data = pd.DataFrame(values, steps, columns = [\"training-mae\", \"val-mae\"])\n",
    "\n",
    "sns.set(style = \"whitegrid\")\n",
    "sns.lineplot(data = data, palette = \"tab10\", linewidth = 2.5)\n"
   ]
  },
  {
   "cell_type": "code",
   "execution_count": null,
   "metadata": {},
   "outputs": [],
   "source": []
  },
  {
   "cell_type": "code",
   "execution_count": 67,
   "metadata": {
    "scrolled": true
   },
   "outputs": [
    {
     "data": {
      "image/png": "[encoded data removed]",
      "text/plain": [
       "<Figure size 432x288 with 1 Axes>"
      ]
     },
     "metadata": {},
     "output_type": "display_data"
    }
   ],
   "source": [
    "predictions = model.predict(testInput).flatten()\n",
    "a = plt.axes(aspect = 'equal')\n",
    "plt.scatter(predictions, testTarget, edgecolors = (0, 0, 0))\n",
    "plt.xlabel(\"True Values\")\n",
    "plt.ylabel(\"Predictions\")\n",
    "lims = [0, 50]\n",
    "plt.xlim(lims)\n",
    "plt.ylim(lims)\n",
    "_ = plt.plot(lims, lims)"
   ]
  },
  {
   "cell_type": "code",
   "execution_count": null,
   "metadata": {},
   "outputs": [],
   "source": [
    "# Get the saved checkpoint files\n",
    "checkpoints = []\n",
    "for f_name in os.listdir(checkpoint_dir):\n",
    "    if f_name.startswith('cp-'):\n",
    "        file_with_no_ext = os.path.splitext(f_name)[0]\n",
    "        checkpoints.append(file_with_no_ext)\n",
    "    \n",
    "# Return unique list elements\n",
    "checkpoints = list(set(checkpoints))\n",
    "print('checkpoints: ', checkpoints)\n",
    "print()\n",
    "# Load all model checkpoints and evaluate for each\n",
    "\n",
    "model_improvement_progress = True\n",
    "if model_improvement_progress:\n",
    "    for checkpoint in checkpoints:\n",
    "        count += 1\n",
    "    \n",
    "        \n",
    "        # Call model instant\n",
    "        model = linear_model()\n",
    "        \n",
    "        # Restore the weights\n",
    "        path = os.path.join('training', checkpoint)\n",
    "        model.load_weights(path)\n",
    "        \n",
    "        # Access to layer weights\n",
    "        layer = model.get_layer('layer')\n",
    "        w1, w0 = layer.get_weights()\n",
    "        w1 = float(w1[0])\n",
    "        w0 = float(w0[0])\n",
    "        \n",
    "        # Draw the scatter plot data\n",
    "        fig, ax = plt.subplots()\n",
    "        x = testInput\n",
    "        y = testTarget\n",
    "        ax.scatter(x, y, edgecolors = (0, 0, 0))\n",
    "        ax.set_xlabel('RM')\n",
    "        ax.set_ylabel('MEDV')\n",
    "        \n",
    "        # Plot the line\n",
    "        y_hat = w1 * x + w0\n",
    "        plt.plot(x, y_hat, '-r')\n",
    "        plt.savefig('png/' + str(checkpoint) + '.png')\n",
    "        print(os.path)"
   ]
  },
  {
   "cell_type": "code",
   "execution_count": null,
   "metadata": {},
   "outputs": [],
   "source": []
  },
  {
   "cell_type": "code",
   "execution_count": null,
   "metadata": {},
   "outputs": [],
   "source": []
  },
  {
   "cell_type": "code",
   "execution_count": 9,
   "metadata": {},
   "outputs": [
    {
     "name": "stdout",
     "output_type": "stream",
     "text": [
      "step: 50, loss: 0.158755, W: 0.279689, b: 0.599912\n",
      "step: 100, loss: 0.157698, W: 0.276478, b: 0.622672\n",
      "step: 150, loss: 0.156869, W: 0.273635, b: 0.642828\n",
      "step: 200, loss: 0.156220, W: 0.271118, b: 0.660677\n",
      "step: 250, loss: 0.155710, W: 0.268888, b: 0.676483\n",
      "step: 300, loss: 0.155310, W: 0.266914, b: 0.690481\n",
      "step: 350, loss: 0.154997, W: 0.265165, b: 0.702877\n",
      "step: 400, loss: 0.154751, W: 0.263617, b: 0.713854\n",
      "step: 450, loss: 0.154558, W: 0.262246, b: 0.723575\n",
      "step: 500, loss: 0.154407, W: 0.261032, b: 0.732184\n",
      "step: 550, loss: 0.154289, W: 0.259956, b: 0.739807\n",
      "step: 600, loss: 0.154196, W: 0.259004, b: 0.746558\n",
      "step: 650, loss: 0.154123, W: 0.258161, b: 0.752537\n",
      "step: 700, loss: 0.154065, W: 0.257414, b: 0.757831\n",
      "step: 750, loss: 0.154021, W: 0.256753, b: 0.762520\n",
      "step: 800, loss: 0.153985, W: 0.256167, b: 0.766672\n",
      "step: 850, loss: 0.153958, W: 0.255648, b: 0.770348\n",
      "step: 900, loss: 0.153936, W: 0.255189, b: 0.773605\n",
      "step: 950, loss: 0.153919, W: 0.254782, b: 0.776488\n",
      "step: 1000, loss: 0.153906, W: 0.254422, b: 0.779042\n"
     ]
    },
    {
     "data": {
      "image/png": "[encoded data removed]",
      "text/plain": [
       "<Figure size 432x288 with 1 Axes>"
      ]
     },
     "metadata": {
      "needs_background": "light"
     },
     "output_type": "display_data"
    }
   ],
   "source": [
    "# Linear Regression Example.\n",
    "from __future__ import absolute_import, division, print_function\n",
    "import matplotlib.pyplot as plt\n",
    "import tensorflow as tf\n",
    "import numpy as np\n",
    "rng = np.random\n",
    "\n",
    "# Parameters.\n",
    "learning_rate = 0.01\n",
    "training_steps = 1000\n",
    "display_step = 50\n",
    "\n",
    "# Training Data.\n",
    "X = np.array([3.3,4.4,5.5,6.71,6.93,4.168,9.779,6.182,7.59,2.167,\n",
    "              7.042,10.791,5.313,7.997,5.654,9.27,3.1])\n",
    "Y = np.array([1.7,2.76,2.09,3.19,1.694,1.573,3.366,2.596,2.53,1.221,\n",
    "              2.827,3.465,1.65,2.904,2.42,2.94,1.3])\n",
    "\n",
    "# Weight and Bias, initialized randomly.\n",
    "W = tf.Variable(rng.randn(), name = \"weight\")\n",
    "b = tf.Variable(rng.randn(), name = \"bias\")\n",
    "\n",
    "# Linear regression (Wx + b).\n",
    "def linear_regression(x):\n",
    "    return W * x + b\n",
    "\n",
    "# Mean square error.\n",
    "def mean_square(y_pred, y_true):\n",
    "    return tf.reduce_mean(tf.square(y_pred - y_true))\n",
    "\n",
    "# Stochastic Gradient Descent Optimizer.\n",
    "optimizer = tf.optimizers.SGD(learning_rate)\n",
    "\n",
    "# Optimization process.\n",
    "def run_optimization():\n",
    "    with tf.GradientTape() as g:\n",
    "        pred = linear_regression(X)\n",
    "        loss = mean_square(pred, Y)\n",
    "        \n",
    "    # Compute gradients\n",
    "    gradients = g.gradient(loss, [W, b])\n",
    "    \n",
    "    # Update W and b following gradients.\n",
    "    optimizer.apply_gradients(zip(gradients, [W, b]))\n",
    "    \n",
    "# Run training.    \n",
    "for step in range(1, training_steps + 1):\n",
    "    run_optimization()\n",
    "    \n",
    "    if step % display_step == 0:\n",
    "        pred = linear_regression(X)\n",
    "        loss = mean_square(pred, Y)\n",
    "        print(\"step: %i, loss: %f, W: %f, b: %f\" % (step, loss, W.numpy(), b.numpy()))\n",
    "\n",
    "# Graphic display\n",
    "plt.plot(X, Y, 'ro', label = 'Original data')\n",
    "plt.plot(X, np.array(W * X + b), label = 'Fitted line')\n",
    "plt.legend()\n",
    "plt.show()\n"
   ]
  },
  {
   "cell_type": "code",
   "execution_count": 17,
   "metadata": {},
   "outputs": [
    {
     "name": "stdout",
     "output_type": "stream",
     "text": [
      "step: 50, loss: 1.863747, accuracy: 0.753906\n",
      "step: 100, loss: 1.533934, accuracy: 0.792969\n",
      "step: 150, loss: 1.390031, accuracy: 0.753906\n",
      "step: 200, loss: 1.137287, accuracy: 0.875000\n",
      "step: 250, loss: 1.070224, accuracy: 0.843750\n",
      "step: 300, loss: 0.975030, accuracy: 0.835938\n",
      "step: 350, loss: 0.942612, accuracy: 0.832031\n",
      "step: 400, loss: 0.919866, accuracy: 0.835938\n",
      "step: 450, loss: 0.789676, accuracy: 0.863281\n",
      "step: 500, loss: 0.800145, accuracy: 0.843750\n",
      "step: 550, loss: 0.745467, accuracy: 0.871094\n",
      "step: 600, loss: 0.692917, accuracy: 0.867188\n",
      "step: 650, loss: 0.749149, accuracy: 0.835938\n",
      "step: 700, loss: 0.625936, accuracy: 0.890625\n",
      "step: 750, loss: 0.678670, accuracy: 0.855469\n",
      "step: 800, loss: 0.666419, accuracy: 0.843750\n",
      "step: 850, loss: 0.691584, accuracy: 0.812500\n",
      "step: 900, loss: 0.630433, accuracy: 0.863281\n",
      "step: 950, loss: 0.555410, accuracy: 0.867188\n",
      "step: 1000, loss: 0.638555, accuracy: 0.843750\n",
      "step: 1050, loss: 0.659104, accuracy: 0.839844\n",
      "step: 1100, loss: 0.600496, accuracy: 0.875000\n",
      "step: 1150, loss: 0.518527, accuracy: 0.902344\n",
      "step: 1200, loss: 0.560976, accuracy: 0.882812\n",
      "step: 1250, loss: 0.560999, accuracy: 0.890625\n",
      "step: 1300, loss: 0.634760, accuracy: 0.835938\n",
      "step: 1350, loss: 0.547129, accuracy: 0.882812\n",
      "step: 1400, loss: 0.463469, accuracy: 0.917969\n",
      "step: 1450, loss: 0.526724, accuracy: 0.878906\n",
      "step: 1500, loss: 0.576966, accuracy: 0.824219\n",
      "step: 1550, loss: 0.596459, accuracy: 0.851562\n",
      "step: 1600, loss: 0.525267, accuracy: 0.871094\n",
      "step: 1650, loss: 0.487422, accuracy: 0.890625\n",
      "step: 1700, loss: 0.502596, accuracy: 0.882812\n",
      "step: 1750, loss: 0.525675, accuracy: 0.886719\n",
      "step: 1800, loss: 0.621654, accuracy: 0.832031\n",
      "step: 1850, loss: 0.399034, accuracy: 0.917969\n",
      "step: 1900, loss: 0.452224, accuracy: 0.882812\n",
      "step: 1950, loss: 0.493642, accuracy: 0.875000\n",
      "step: 2000, loss: 0.495611, accuracy: 0.890625\n",
      "step: 2050, loss: 0.528942, accuracy: 0.871094\n",
      "step: 2100, loss: 0.427280, accuracy: 0.917969\n",
      "step: 2150, loss: 0.465775, accuracy: 0.871094\n",
      "step: 2200, loss: 0.565360, accuracy: 0.859375\n",
      "step: 2250, loss: 0.415814, accuracy: 0.902344\n",
      "step: 2300, loss: 0.425921, accuracy: 0.878906\n",
      "step: 2350, loss: 0.406398, accuracy: 0.878906\n",
      "step: 2400, loss: 0.420888, accuracy: 0.910156\n",
      "step: 2450, loss: 0.536054, accuracy: 0.855469\n",
      "step: 2500, loss: 0.494377, accuracy: 0.855469\n",
      "step: 2550, loss: 0.395421, accuracy: 0.910156\n",
      "step: 2600, loss: 0.501644, accuracy: 0.867188\n",
      "step: 2650, loss: 0.420507, accuracy: 0.875000\n",
      "step: 2700, loss: 0.430275, accuracy: 0.910156\n",
      "step: 2750, loss: 0.393293, accuracy: 0.914062\n",
      "step: 2800, loss: 0.488006, accuracy: 0.875000\n",
      "step: 2850, loss: 0.372741, accuracy: 0.917969\n",
      "step: 2900, loss: 0.473562, accuracy: 0.886719\n",
      "step: 2950, loss: 0.485699, accuracy: 0.875000\n",
      "step: 3000, loss: 0.558810, accuracy: 0.855469\n",
      "step: 3050, loss: 0.389490, accuracy: 0.902344\n",
      "step: 3100, loss: 0.393843, accuracy: 0.910156\n",
      "step: 3150, loss: 0.461088, accuracy: 0.875000\n",
      "step: 3200, loss: 0.463020, accuracy: 0.867188\n",
      "step: 3250, loss: 0.459248, accuracy: 0.886719\n",
      "step: 3300, loss: 0.406465, accuracy: 0.902344\n",
      "step: 3350, loss: 0.407977, accuracy: 0.882812\n",
      "step: 3400, loss: 0.389821, accuracy: 0.902344\n",
      "step: 3450, loss: 0.404151, accuracy: 0.902344\n",
      "step: 3500, loss: 0.363899, accuracy: 0.925781\n",
      "step: 3550, loss: 0.392672, accuracy: 0.917969\n",
      "step: 3600, loss: 0.469574, accuracy: 0.882812\n",
      "step: 3650, loss: 0.448113, accuracy: 0.886719\n",
      "step: 3700, loss: 0.367663, accuracy: 0.894531\n",
      "step: 3750, loss: 0.389900, accuracy: 0.894531\n",
      "step: 3800, loss: 0.443728, accuracy: 0.886719\n",
      "step: 3850, loss: 0.333452, accuracy: 0.937500\n",
      "step: 3900, loss: 0.433925, accuracy: 0.886719\n",
      "step: 3950, loss: 0.361558, accuracy: 0.898438\n",
      "step: 4000, loss: 0.306521, accuracy: 0.914062\n",
      "step: 4050, loss: 0.469281, accuracy: 0.863281\n",
      "step: 4100, loss: 0.437553, accuracy: 0.871094\n",
      "step: 4150, loss: 0.415294, accuracy: 0.890625\n",
      "step: 4200, loss: 0.369354, accuracy: 0.890625\n",
      "step: 4250, loss: 0.385814, accuracy: 0.902344\n",
      "step: 4300, loss: 0.344802, accuracy: 0.906250\n",
      "step: 4350, loss: 0.363211, accuracy: 0.894531\n",
      "step: 4400, loss: 0.447958, accuracy: 0.882812\n",
      "step: 4450, loss: 0.414379, accuracy: 0.890625\n",
      "step: 4500, loss: 0.396989, accuracy: 0.898438\n",
      "step: 4550, loss: 0.445423, accuracy: 0.886719\n",
      "step: 4600, loss: 0.489555, accuracy: 0.835938\n",
      "step: 4650, loss: 0.441760, accuracy: 0.898438\n",
      "step: 4700, loss: 0.313204, accuracy: 0.910156\n",
      "step: 4750, loss: 0.469011, accuracy: 0.859375\n",
      "step: 4800, loss: 0.489884, accuracy: 0.882812\n",
      "step: 4850, loss: 0.389535, accuracy: 0.902344\n",
      "step: 4900, loss: 0.296597, accuracy: 0.917969\n",
      "step: 4950, loss: 0.351637, accuracy: 0.898438\n",
      "step: 5000, loss: 0.432284, accuracy: 0.886719\n",
      "step: 5050, loss: 0.408235, accuracy: 0.890625\n",
      "step: 5100, loss: 0.487896, accuracy: 0.835938\n",
      "step: 5150, loss: 0.368582, accuracy: 0.910156\n",
      "step: 5200, loss: 0.521579, accuracy: 0.855469\n",
      "step: 5250, loss: 0.323766, accuracy: 0.929688\n",
      "step: 5300, loss: 0.413410, accuracy: 0.886719\n",
      "step: 5350, loss: 0.428925, accuracy: 0.863281\n",
      "step: 5400, loss: 0.335392, accuracy: 0.914062\n",
      "step: 5450, loss: 0.420578, accuracy: 0.859375\n",
      "step: 5500, loss: 0.450108, accuracy: 0.875000\n",
      "step: 5550, loss: 0.386990, accuracy: 0.875000\n",
      "step: 5600, loss: 0.304251, accuracy: 0.906250\n",
      "step: 5650, loss: 0.309494, accuracy: 0.921875\n",
      "step: 5700, loss: 0.301157, accuracy: 0.929688\n",
      "step: 5750, loss: 0.388654, accuracy: 0.906250\n",
      "step: 5800, loss: 0.425163, accuracy: 0.867188\n",
      "step: 5850, loss: 0.385283, accuracy: 0.890625\n",
      "step: 5900, loss: 0.477562, accuracy: 0.890625\n",
      "step: 5950, loss: 0.446606, accuracy: 0.886719\n",
      "step: 6000, loss: 0.421252, accuracy: 0.875000\n",
      "step: 6050, loss: 0.349508, accuracy: 0.910156\n",
      "step: 6100, loss: 0.325451, accuracy: 0.914062\n",
      "step: 6150, loss: 0.277149, accuracy: 0.933594\n",
      "step: 6200, loss: 0.371543, accuracy: 0.906250\n",
      "step: 6250, loss: 0.306280, accuracy: 0.921875\n",
      "step: 6300, loss: 0.366874, accuracy: 0.914062\n",
      "step: 6350, loss: 0.442328, accuracy: 0.867188\n",
      "step: 6400, loss: 0.372602, accuracy: 0.863281\n",
      "step: 6450, loss: 0.316887, accuracy: 0.910156\n",
      "step: 6500, loss: 0.390200, accuracy: 0.863281\n",
      "step: 6550, loss: 0.309078, accuracy: 0.929688\n",
      "step: 6600, loss: 0.363220, accuracy: 0.921875\n",
      "step: 6650, loss: 0.432238, accuracy: 0.890625\n",
      "step: 6700, loss: 0.328018, accuracy: 0.898438\n",
      "step: 6750, loss: 0.303319, accuracy: 0.925781\n",
      "step: 6800, loss: 0.286499, accuracy: 0.914062\n",
      "step: 6850, loss: 0.301515, accuracy: 0.910156\n",
      "step: 6900, loss: 0.374851, accuracy: 0.882812\n",
      "step: 6950, loss: 0.361596, accuracy: 0.894531\n",
      "step: 7000, loss: 0.346454, accuracy: 0.894531\n",
      "step: 7050, loss: 0.329635, accuracy: 0.917969\n",
      "step: 7100, loss: 0.376667, accuracy: 0.914062\n",
      "step: 7150, loss: 0.316717, accuracy: 0.917969\n",
      "step: 7200, loss: 0.369905, accuracy: 0.906250\n",
      "step: 7250, loss: 0.320836, accuracy: 0.910156\n",
      "step: 7300, loss: 0.321260, accuracy: 0.914062\n",
      "step: 7350, loss: 0.264711, accuracy: 0.929688\n",
      "step: 7400, loss: 0.347629, accuracy: 0.902344\n",
      "step: 7450, loss: 0.405073, accuracy: 0.910156\n",
      "step: 7500, loss: 0.318156, accuracy: 0.929688\n",
      "step: 7550, loss: 0.369859, accuracy: 0.906250\n",
      "step: 7600, loss: 0.314852, accuracy: 0.917969\n",
      "step: 7650, loss: 0.356626, accuracy: 0.886719\n",
      "step: 7700, loss: 0.362685, accuracy: 0.910156\n",
      "step: 7750, loss: 0.358944, accuracy: 0.882812\n",
      "step: 7800, loss: 0.323763, accuracy: 0.898438\n",
      "step: 7850, loss: 0.324826, accuracy: 0.917969\n",
      "step: 7900, loss: 0.299696, accuracy: 0.910156\n",
      "step: 7950, loss: 0.371425, accuracy: 0.910156\n",
      "step: 8000, loss: 0.389936, accuracy: 0.894531\n",
      "step: 8050, loss: 0.335540, accuracy: 0.898438\n",
      "step: 8100, loss: 0.346913, accuracy: 0.898438\n",
      "step: 8150, loss: 0.403986, accuracy: 0.882812\n",
      "step: 8200, loss: 0.232423, accuracy: 0.937500\n",
      "step: 8250, loss: 0.410446, accuracy: 0.894531\n",
      "step: 8300, loss: 0.381488, accuracy: 0.875000\n",
      "step: 8350, loss: 0.365438, accuracy: 0.902344\n",
      "step: 8400, loss: 0.348804, accuracy: 0.906250\n",
      "step: 8450, loss: 0.324160, accuracy: 0.910156\n",
      "step: 8500, loss: 0.413550, accuracy: 0.871094\n",
      "step: 8550, loss: 0.438385, accuracy: 0.855469\n",
      "step: 8600, loss: 0.328973, accuracy: 0.921875\n",
      "step: 8650, loss: 0.296210, accuracy: 0.914062\n",
      "step: 8700, loss: 0.350618, accuracy: 0.914062\n",
      "step: 8750, loss: 0.357515, accuracy: 0.886719\n",
      "step: 8800, loss: 0.373659, accuracy: 0.910156\n"
     ]
    },
    {
     "name": "stdout",
     "output_type": "stream",
     "text": [
      "step: 8850, loss: 0.353767, accuracy: 0.910156\n",
      "step: 8900, loss: 0.270914, accuracy: 0.921875\n",
      "step: 8950, loss: 0.353607, accuracy: 0.910156\n",
      "step: 9000, loss: 0.246364, accuracy: 0.933594\n",
      "step: 9050, loss: 0.373921, accuracy: 0.898438\n",
      "step: 9100, loss: 0.372084, accuracy: 0.898438\n",
      "step: 9150, loss: 0.364441, accuracy: 0.917969\n",
      "step: 9200, loss: 0.370056, accuracy: 0.906250\n",
      "step: 9250, loss: 0.402422, accuracy: 0.902344\n",
      "step: 9300, loss: 0.397798, accuracy: 0.894531\n",
      "step: 9350, loss: 0.315375, accuracy: 0.914062\n",
      "step: 9400, loss: 0.314460, accuracy: 0.917969\n",
      "step: 9450, loss: 0.340772, accuracy: 0.898438\n",
      "step: 9500, loss: 0.378824, accuracy: 0.878906\n",
      "step: 9550, loss: 0.450537, accuracy: 0.882812\n",
      "step: 9600, loss: 0.314596, accuracy: 0.925781\n",
      "step: 9650, loss: 0.310298, accuracy: 0.902344\n",
      "step: 9700, loss: 0.328623, accuracy: 0.906250\n",
      "step: 9750, loss: 0.376915, accuracy: 0.906250\n",
      "step: 9800, loss: 0.374764, accuracy: 0.894531\n",
      "step: 9850, loss: 0.251593, accuracy: 0.937500\n",
      "step: 9900, loss: 0.340885, accuracy: 0.902344\n",
      "step: 9950, loss: 0.420698, accuracy: 0.867188\n",
      "step: 10000, loss: 0.409622, accuracy: 0.882812\n",
      "Test Accuracy: 0.909800\n"
     ]
    },
    {
     "data": {
      "image/png": "[encoded data removed]",
      "text/plain": [
       "<Figure size 432x288 with 1 Axes>"
      ]
     },
     "metadata": {
      "needs_background": "light"
     },
     "output_type": "display_data"
    },
    {
     "name": "stdout",
     "output_type": "stream",
     "text": [
      "Model prediction: 7\n"
     ]
    },
    {
     "data": {
      "image/png": "[encoded data removed]",
      "text/plain": [
       "<Figure size 432x288 with 1 Axes>"
      ]
     },
     "metadata": {
      "needs_background": "light"
     },
     "output_type": "display_data"
    },
    {
     "name": "stdout",
     "output_type": "stream",
     "text": [
      "Model prediction: 2\n"
     ]
    },
    {
     "data": {
      "image/png": "[encoded data removed]",
      "text/plain": [
       "<Figure size 432x288 with 1 Axes>"
      ]
     },
     "metadata": {
      "needs_background": "light"
     },
     "output_type": "display_data"
    },
    {
     "name": "stdout",
     "output_type": "stream",
     "text": [
      "Model prediction: 1\n"
     ]
    },
    {
     "data": {
      "image/png": "[encoded data removed]",
      "text/plain": [
       "<Figure size 432x288 with 1 Axes>"
      ]
     },
     "metadata": {
      "needs_background": "light"
     },
     "output_type": "display_data"
    },
    {
     "name": "stdout",
     "output_type": "stream",
     "text": [
      "Model prediction: 0\n"
     ]
    },
    {
     "data": {
      "image/png": "[encoded data removed]",
      "text/plain": [
       "<Figure size 432x288 with 1 Axes>"
      ]
     },
     "metadata": {
      "needs_background": "light"
     },
     "output_type": "display_data"
    },
    {
     "name": "stdout",
     "output_type": "stream",
     "text": [
      "Model prediction: 4\n"
     ]
    }
   ],
   "source": [
    "# Logistic Regression Example\n",
    "from __future__ import absolute_import, division, print_function\n",
    "from tensorflow.keras.datasets import mnist\n",
    "import matplotlib.pyplot as plt\n",
    "import tensorflow as tf\n",
    "import numpy as np\n",
    "\n",
    "# MNIST dataset parameters.\n",
    "num_classes = 10\n",
    "num_features = 784\n",
    "\n",
    "# Training parameters.\n",
    "learning_rate = 0.01\n",
    "training_steps = 10000\n",
    "batch_size = 256\n",
    "display_step = 50\n",
    "\n",
    "# Prepare MNIST data.\n",
    "(x_train, y_train), (x_test, y_test) = mnist.load_data()\n",
    "\n",
    "# Convert to float32.\n",
    "x_train = np.array(x_train, np.float32)\n",
    "x_test = np.array(x_test, np.float32)\n",
    "\n",
    "# Flatten images to 1-D vector of 784(28 * 28).\n",
    "x_train = x_train.reshape([-1, num_features])\n",
    "x_test = x_test.reshape([-1, num_features])\n",
    "\n",
    "# Normalize images value from [0, 255] to [0, 1].\n",
    "x_train, x_test = x_train / 255., x_test / 255.\n",
    "\n",
    "# Use tf.data API to shuffle and batch data\n",
    "train_data = tf.data.Dataset.from_tensor_slices((x_train, y_train))\n",
    "train_data = train_data.repeat().shuffle(5000).batch(batch_size).prefetch(1)\n",
    "\n",
    "\n",
    "W = tf.Variable(tf.ones([num_features, num_classes]), name = \"weight\")\n",
    "b = tf.Variable(tf.zeros([num_classes]), name = \"bias\")\n",
    "\n",
    "# Logistic regression (Wx + b).\n",
    "def logistic_regression(x):\n",
    "    return tf.nn.softmax(tf.matmul(x, W) + b)\n",
    "\n",
    "# Cross-Entropy loss function.\n",
    "def cross_entropy(y_pred, y_true):\n",
    "    y_true = tf.one_hot(y_true, depth = num_classes)\n",
    "    y_pred = tf.clip_by_value(y_pred, 1e-9, 1.)\n",
    "    return tf.reduce_mean(-tf.reduce_sum(y_true * tf.math.log(y_pred), -1))\n",
    "\n",
    "# Accuracy metric.\n",
    "def accuracy(y_pred, y_true):\n",
    "    correct_prediction = tf.equal(tf.argmax(y_pred, 1), tf.cast(y_true, tf.int64))\n",
    "    return tf.reduce_mean(tf.cast(correct_prediction, tf.float32))\n",
    "\n",
    "# Stochastic gradient descent optimizer.\n",
    "optimizer = tf.optimizers.SGD(learning_rate)\n",
    "\n",
    "# Optimization process.\n",
    "def run_optimization(x, y):\n",
    "    with tf.GradientTape() as g:\n",
    "        pred = logistic_regression(x)\n",
    "        loss = cross_entropy(pred, y)\n",
    "        \n",
    "    gradients = g.gradient(loss, [W, b])\n",
    "    optimizer.apply_gradients(zip(gradients, [W, b]))\n",
    "    \n",
    "# Run training.\n",
    "for step, (batch_x, batch_y) in enumerate(train_data.take(training_steps), 1):\n",
    "    run_optimization(batch_x, batch_y)\n",
    "    \n",
    "    if step % display_step == 0:\n",
    "        pred = logistic_regression(batch_x)\n",
    "        loss = cross_entropy(pred, batch_y)\n",
    "        acc = accuracy(pred, batch_y)\n",
    "        print(\"step: %i, loss: %f, accuracy: %f\" % (step, loss, acc))\n",
    "        \n",
    "# Test model on validation set.\n",
    "pred = logistic_regression(x_test)\n",
    "print(\"Test Accuracy: %f\" %accuracy(pred, y_test))\n",
    "\n",
    "# Visualize predictions.\n",
    "n_images = 5\n",
    "test_images = x_test[:n_images]\n",
    "predictions = logistic_regression(test_images)\n",
    "\n",
    "for i in range(n_images):\n",
    "    plt.imshow(np.reshape(test_images[i], [28, 28]), cmap = 'gray')\n",
    "    plt.show()\n",
    "    print(\"Model prediction: %i\" % np.argmax(predictions.numpy()[i]))"
   ]
  },
  {
   "cell_type": "code",
   "execution_count": null,
   "metadata": {},
   "outputs": [],
   "source": []
  }
 ],
 "metadata": {
  "kernelspec": {
   "display_name": "Python 3",
   "language": "python",
   "name": "python3"
  },
  "language_info": {
   "codemirror_mode": {
    "name": "ipython",
    "version": 3
   },
   "file_extension": ".py",
   "mimetype": "text/x-python",
   "name": "python",
   "nbconvert_exporter": "python",
   "pygments_lexer": "ipython3",
   "version": "3.7.0"
  }
 },
 "nbformat": 4,
 "nbformat_minor": 2
}
